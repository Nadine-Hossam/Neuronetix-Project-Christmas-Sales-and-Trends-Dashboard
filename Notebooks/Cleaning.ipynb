{
  "nbformat": 4,
  "nbformat_minor": 0,
  "metadata": {
    "colab": {
      "provenance": []
    },
    "kernelspec": {
      "name": "python3",
      "display_name": "Python 3"
    },
    "language_info": {
      "name": "python"
    }
  },
  "cells": [
    {
      "cell_type": "markdown",
      "source": [
        "**Import**"
      ],
      "metadata": {
        "id": "zJOac00v_SeO"
      }
    },
    {
      "cell_type": "code",
      "execution_count": 28,
      "metadata": {
        "id": "efrtVecO_ANG"
      },
      "outputs": [],
      "source": [
        "import pandas as pd"
      ]
    },
    {
      "cell_type": "markdown",
      "source": [
        "**read the file**"
      ],
      "metadata": {
        "id": "7Ib0y-Aw_luW"
      }
    },
    {
      "cell_type": "code",
      "source": [
        "df = pd.read_csv('/content/Onyx Data -DataDNA Dataset Challenge - Christmas Sales and Trends - December 2023.csv')"
      ],
      "metadata": {
        "id": "_UCIxcIN_rqe"
      },
      "execution_count": 29,
      "outputs": []
    },
    {
      "cell_type": "markdown",
      "source": [
        "**replace blank cells with \"undefined\"**"
      ],
      "metadata": {
        "id": "_ZAZ-7sHBOu7"
      }
    },
    {
      "cell_type": "code",
      "source": [
        "df = df.where(df.notnull(), 'undefined')"
      ],
      "metadata": {
        "id": "LH1D-s8WBVWV"
      },
      "execution_count": 30,
      "outputs": []
    },
    {
      "cell_type": "markdown",
      "source": [
        "**save dataframe to the excel sheet**"
      ],
      "metadata": {
        "id": "71fkx5O3C5WN"
      }
    },
    {
      "cell_type": "code",
      "source": [
        "df.to_csv('/content/Onyx Data -DataDNA Dataset Challenge - Christmas Sales and Trends - December 2023.csv' , index=False)"
      ],
      "metadata": {
        "id": "uVGAXy5GDBjT"
      },
      "execution_count": 31,
      "outputs": []
    }
  ]
}